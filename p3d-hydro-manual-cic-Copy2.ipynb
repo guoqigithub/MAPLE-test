{
 "cells": [
  {
   "cell_type": "code",
   "execution_count": 1,
   "id": "fb16a73e-3327-4b98-b98a-493692bee310",
   "metadata": {
    "tags": []
   },
   "outputs": [
    {
     "name": "stdout",
     "output_type": "stream",
     "text": [
      "gpu\n",
      "%pylab is deprecated, use %matplotlib inline and import the required libraries.\n",
      "Populating the interactive namespace from numpy and matplotlib\n"
     ]
    }
   ],
   "source": [
    "### Notebook for P3D stuff!\n",
    "\n",
    "import jax\n",
    "jax.config.update('jax_platform_name', 'gpu')\n",
    "from jax.lib import xla_bridge\n",
    "\n",
    "print(xla_bridge.get_backend().platform)\n",
    "\n",
    "import numpy as np\n",
    "import jax.numpy as jnp\n",
    "\n",
    "%pylab inline"
   ]
  },
  {
   "cell_type": "code",
   "execution_count": 2,
   "id": "993f65ad-95ce-4505-a4f7-9b9108572835",
   "metadata": {},
   "outputs": [
    {
     "name": "stdout",
     "output_type": "stream",
     "text": [
      "Mon Mar 17 08:45:39 2025       \n",
      "+---------------------------------------------------------------------------------------+\n",
      "| NVIDIA-SMI 530.30.02              Driver Version: 530.30.02    CUDA Version: 12.1     |\n",
      "|-----------------------------------------+----------------------+----------------------+\n",
      "| GPU  Name                  Persistence-M| Bus-Id        Disp.A | Volatile Uncorr. ECC |\n",
      "| Fan  Temp  Perf            Pwr:Usage/Cap|         Memory-Usage | GPU-Util  Compute M. |\n",
      "|                                         |                      |               MIG M. |\n",
      "|=========================================+======================+======================|\n",
      "|   0  NVIDIA GeForce RTX 2080 Ti      Off| 00000000:1A:00.0 Off |                  N/A |\n",
      "| 16%   30C    P2               50W / 250W|    177MiB / 11264MiB |      0%      Default |\n",
      "|                                         |                      |                  N/A |\n",
      "+-----------------------------------------+----------------------+----------------------+\n",
      "|   1  NVIDIA GeForce RTX 2080 Ti      Off| 00000000:1B:00.0 Off |                  N/A |\n",
      "| 16%   33C    P2               64W / 250W|    160MiB / 11264MiB |      1%      Default |\n",
      "|                                         |                      |                  N/A |\n",
      "+-----------------------------------------+----------------------+----------------------+\n",
      "|   2  Tesla V100-PCIE-32GB            Off| 00000000:1F:00.0 Off |                    0 |\n",
      "| N/A   36C    P0               38W / 250W|    312MiB / 32768MiB |      0%      Default |\n",
      "|                                         |                      |                  N/A |\n",
      "+-----------------------------------------+----------------------+----------------------+\n"
     ]
    },
    {
     "name": "stderr",
     "output_type": "stream",
     "text": [
      "/home/guoqi/.conda/envs/MAPLE/lib/python3.9/pty.py:85: RuntimeWarning: os.fork() was called. os.fork() is incompatible with multithreaded code, and JAX is multithreaded, so this will likely lead to a deadlock.\n",
      "  pid, fd = os.forkpty()\n"
     ]
    },
    {
     "name": "stdout",
     "output_type": "stream",
     "text": [
      "|   3  Tesla V100-PCIE-32GB            Off| 00000000:20:00.0 Off |                    0 |\n",
      "| N/A   36C    P0               37W / 250W|    312MiB / 32768MiB |      0%      Default |\n",
      "|                                         |                      |                  N/A |\n",
      "+-----------------------------------------+----------------------+----------------------+\n",
      "|   4  Tesla V100-PCIE-32GB            Off| 00000000:21:00.0 Off |                    0 |\n",
      "| N/A   37C    P0               37W / 250W|    312MiB / 32768MiB |      0%      Default |\n",
      "|                                         |                      |                  N/A |\n",
      "+-----------------------------------------+----------------------+----------------------+\n",
      "|   5  Tesla V100-PCIE-32GB            Off| 00000000:22:00.0 Off |                    0 |\n",
      "| N/A   37C    P0               37W / 250W|    312MiB / 32768MiB |      0%      Default |\n",
      "|                                         |                      |                  N/A |\n",
      "+-----------------------------------------+----------------------+----------------------+\n",
      "|   6  NVIDIA GeForce RTX 2080 Ti      Off| 00000000:23:00.0 Off |                  N/A |\n",
      "| 16%   33C    P2               59W / 250W|    160MiB / 11264MiB |      0%      Default |\n",
      "|                                         |                      |                  N/A |\n",
      "+-----------------------------------------+----------------------+----------------------+\n",
      "|   7  NVIDIA GeForce RTX 2080 Ti      Off| 00000000:24:00.0 Off |                  N/A |\n",
      "| 16%   33C    P2               49W / 250W|    160MiB / 11264MiB |      0%      Default |\n",
      "|                                         |                      |                  N/A |\n",
      "+-----------------------------------------+----------------------+----------------------+\n",
      "                                                                                         \n",
      "+---------------------------------------------------------------------------------------+\n",
      "| Processes:                                                                            |\n",
      "|  GPU   GI   CI        PID   Type   Process name                            GPU Memory |\n",
      "|        ID   ID                                                             Usage      |\n",
      "|=======================================================================================|\n",
      "|    0   N/A  N/A      5365      G   /usr/bin/X                                    9MiB |\n",
      "|    0   N/A  N/A      5491      G   /usr/bin/gnome-shell                          6MiB |\n",
      "|    0   N/A  N/A     42142      C   .../guoqi/.conda/envs/MAPLE/bin/python      156MiB |\n",
      "|    1   N/A  N/A     42142      C   .../guoqi/.conda/envs/MAPLE/bin/python      156MiB |\n",
      "|    2   N/A  N/A     42142      C   .../guoqi/.conda/envs/MAPLE/bin/python      308MiB |\n",
      "|    3   N/A  N/A     42142      C   .../guoqi/.conda/envs/MAPLE/bin/python      308MiB |\n",
      "|    4   N/A  N/A     42142      C   .../guoqi/.conda/envs/MAPLE/bin/python      308MiB |\n",
      "|    5   N/A  N/A     42142      C   .../guoqi/.conda/envs/MAPLE/bin/python      308MiB |\n",
      "|    6   N/A  N/A     42142      C   .../guoqi/.conda/envs/MAPLE/bin/python      156MiB |\n",
      "|    7   N/A  N/A     42142      C   .../guoqi/.conda/envs/MAPLE/bin/python      156MiB |\n",
      "+---------------------------------------------------------------------------------------+\n"
     ]
    }
   ],
   "source": [
    "!nvidia-smi"
   ]
  },
  {
   "cell_type": "code",
   "execution_count": 3,
   "id": "e1083d18-fde3-4e26-80b7-33122b6b3e43",
   "metadata": {
    "tags": []
   },
   "outputs": [
    {
     "data": {
      "text/plain": [
       "'0.4.26'"
      ]
     },
     "execution_count": 3,
     "metadata": {},
     "output_type": "execute_result"
    }
   ],
   "source": [
    "jax.__version__"
   ]
  },
  {
   "cell_type": "code",
   "execution_count": 4,
   "id": "f97ddc35-e924-4a97-a9a4-a713be58110f",
   "metadata": {
    "tags": []
   },
   "outputs": [],
   "source": [
    "#First things... set the redshift\n",
    "\n",
    "z= 2.0\n",
    "\n",
    "#set box geometry\n",
    "\n",
    "bs =  320#box size in Mpc/h\n",
    "nc =  128#number of pixels per side\n",
    "\n",
    "mesh_shape = [nc,nc,nc]\n",
    "box_size = [bs,bs,bs]\n",
    "\n",
    "ptcl_grid_shape = (nc,) * 3\n",
    "ptcl_spacing = bs/nc\n",
    "\n",
    "#number of kbins \n",
    "\n",
    "#n_kbins = 10\n",
    "#kbins = np.logspace(-2.2,np.log10(0.6),n_kbins)\n"
   ]
  },
  {
   "cell_type": "code",
   "execution_count": 5,
   "id": "b13da0fa-353f-476e-8214-c6c46e30edca",
   "metadata": {
    "tags": []
   },
   "outputs": [
    {
     "name": "stderr",
     "output_type": "stream",
     "text": [
      "/tmp/ipykernel_42142/2928120227.py:35: DeprecationWarning: Calling np.sum(generator) is deprecated, and in the future will give a different result. Use np.sum(np.fromiter(generator)) or the python sum builtin instead.\n",
      "  k = jnp.sqrt(sum(k**2 for k in kvec))\n",
      "2025-03-17 08:45:51.519696: W external/xla/xla/service/gpu/nvptx_compiler.cc:718] The NVIDIA driver's CUDA version is 12.1 which is older than the ptxas CUDA version (12.8.93). Because the driver is older than the ptxas version, XLA is disabling parallel compilation, which may slow down compilation. You should update your NVIDIA driver or use the NVIDIA-provided CUDA forward compatibility packages.\n"
     ]
    },
    {
     "name": "stdout",
     "output_type": "stream",
     "text": [
      "(128, 128, 65)\n"
     ]
    }
   ],
   "source": [
    " def rfftnfreq_2d(shape, spacing, dtype=np.float64):\n",
    "    \"\"\"Broadcastable \"``sparse``\" wavevectors for ``numpy.fft.rfftn``.\n",
    "\n",
    "    Parameters\n",
    "    ----------\n",
    "    shape : tuple of int\n",
    "        Shape of ``rfftn`` input.\n",
    "    spacing : float or None, optional\n",
    "        Grid spacing. None is equivalent to a 2π spacing, with a wavevector period of 1.\n",
    "    dtype : dtype_like\n",
    "\n",
    "    Returns\n",
    "    -------\n",
    "    kvec : list of jax.numpy.ndarray\n",
    "        Wavevectors.\n",
    "\n",
    "    \"\"\"\n",
    "    freq_period = 1\n",
    "    if spacing is not None:\n",
    "        freq_period = 2 * np.pi / spacing\n",
    "\n",
    "    kvec = []\n",
    "    for axis, s in enumerate(shape[:-1]):\n",
    "        k = np.fft.fftfreq(s).astype(dtype) * freq_period\n",
    "        kvec.append(k)\n",
    "\n",
    "    k = np.fft.rfftfreq(shape[-1]).astype(dtype) * freq_period\n",
    "    kvec.append(k)\n",
    "\n",
    "    kvec = np.meshgrid(*kvec, indexing='ij', sparse=True)\n",
    "\n",
    "    return kvec\n",
    "\n",
    "kvec = rfftnfreq_2d(ptcl_grid_shape, ptcl_spacing)\n",
    "k = jnp.sqrt(sum(k**2 for k in kvec))\n",
    "print(k.shape)"
   ]
  },
  {
   "cell_type": "code",
   "execution_count": 6,
   "id": "860d2b94-7cd9-40e8-9424-5ef37e88a7b5",
   "metadata": {
    "tags": []
   },
   "outputs": [],
   "source": [
    "kz = jnp.ones(k.shape)*kvec[0]**2\n",
    "kx = jnp.ones(k.shape)*(kvec[1]**2+kvec[2]**2)\n",
    "kk = (kx+kz)+10**(-8)\n",
    "kmu = (kz/(k**2+0.00001))\n"
   ]
  },
  {
   "cell_type": "code",
   "execution_count": 7,
   "id": "24b55ab0-6982-43ea-935e-baee54851f66",
   "metadata": {
    "tags": []
   },
   "outputs": [],
   "source": [
    "#m_array[:,0][:50].max()\n",
    "from jax import jit, checkpoint, custom_vjp\n",
    "from jax.scipy.ndimage import map_coordinates\n",
    "\n",
    "m_array = np.load(\"pkmu_red_mu4.npy\")\n",
    "m_array = jnp.array(m_array)\n",
    "\n",
    "kmax = m_array[-1,0]\n",
    "\n",
    "#coords = np.array([np.sqrt(ksquared).flatten()/kmax*50-0.1983166*3,kmu.flatten()*4/0.9386239])\n",
    "#output  = map_coordinates(\n",
    " #           m_array[:,2].reshape(4,50).T, coords, mode=\"nearest\",order=1\n",
    " #       )\n",
    "#func2 = output.reshape(512,512,257)"
   ]
  },
  {
   "cell_type": "code",
   "execution_count": 8,
   "id": "31df4507-d033-4063-bf5d-580780bb3628",
   "metadata": {},
   "outputs": [
    {
     "data": {
      "text/plain": [
       "(100,)"
      ]
     },
     "execution_count": 8,
     "metadata": {},
     "output_type": "execute_result"
    }
   ],
   "source": [
    "m_array[:,2].shape"
   ]
  },
  {
   "cell_type": "code",
   "execution_count": 9,
   "id": "5d4267bd-b23e-4ae6-a482-a7e63b69cd28",
   "metadata": {
    "tags": []
   },
   "outputs": [],
   "source": [
    "import jaxinterp2d\n",
    "k_in = (k.flatten()/kmax*50-0.1983166*3)\n",
    "mu_in = kmu.flatten()*4*1.0655\n",
    "\n",
    "func = jax.nn.relu(map_coordinates(m_array[:,2].reshape(4,25).T[:,::-1],np.array([k_in,mu_in]),mode=\"nearest\",order=1))\n",
    "func = func.reshape(128,128,65)"
   ]
  },
  {
   "cell_type": "code",
   "execution_count": 10,
   "id": "1ad01354-16b4-42a6-ae9a-0081f01afd5d",
   "metadata": {
    "tags": []
   },
   "outputs": [],
   "source": [
    "np.save(\"func\",func)"
   ]
  },
  {
   "cell_type": "code",
   "execution_count": 11,
   "id": "ad6e7b3a-9a05-4bee-a043-a207ed0a9467",
   "metadata": {
    "tags": []
   },
   "outputs": [],
   "source": [
    "tff = m_array[:,2].reshape(4,25)\n",
    "theta_fid = m_array[:,2].reshape(4,25)[:,:9]\n",
    "\n",
    "def power_b(theta,tff=tff):\n",
    "    tff = tff.at[:,:9].set(theta.reshape(4,9))\n",
    "    \n",
    "    func = map_coordinates(tff.T[:,:],np.array([k_in,mu_in]),mode=\"nearest\",order=1)\n",
    "    return func.reshape(128,128,65)/15\n",
    "\n"
   ]
  },
  {
   "cell_type": "code",
   "execution_count": 12,
   "id": "9997aa5c-f294-4824-8c3e-7857ba03ebae",
   "metadata": {
    "tags": []
   },
   "outputs": [],
   "source": [
    "#muse componenet...\n",
    "from functools import partial\n",
    "import jax\n",
    "import jax.numpy as jnp\n",
    "from muse_inference.jax import JaxMuseProblem"
   ]
  },
  {
   "cell_type": "code",
   "execution_count": 13,
   "id": "d94186ce-eef2-4d04-af43-ada3dee80d89",
   "metadata": {},
   "outputs": [],
   "source": [
    "\n",
    "#file name\n",
    "prefix = \"A_DESI_TEST512_\"\n",
    "loc = \"/home/guoqi/P3D/MAPLE-V2/\"\n",
    "\n",
    "naa = np.load(loc+prefix+\"naa.npy\")\n",
    "kernel = np.load(loc+prefix+\"kernel.npy\")\n",
    "skewers_skn = np.load(loc+prefix+\"skewers_skn.npy\")\n",
    "skewers_dla = np.load(loc+prefix+\"skewers_dla.npy\")\n",
    "skewers_fin = np.load(loc+prefix+\"skewers_fin.npy\")\n",
    "\n",
    "\n",
    "\n",
    "@jit\n",
    "def cic_readout_jit_jnc(mesh,naa,kernel,bs=False):\n",
    "    #\"highly optimized\" CIC, need to preprocess lots of things... don't diff output coords\n",
    "    meshvals = mesh.flatten()[naa].reshape(-1,8).T#mesh[tuple(neighboor_coords[0,:,:].T.tolist())]\n",
    "    weightedvals = meshvals.T* kernel[0]\n",
    "    values = np.sum(weightedvals, axis=-1)\n",
    "    \n",
    "    return values\n",
    "\n"
   ]
  },
  {
   "cell_type": "code",
   "execution_count": 14,
   "id": "7f6b4a4a-0fef-4b52-a0af-785ca7123ab9",
   "metadata": {},
   "outputs": [
    {
     "data": {
      "text/plain": [
       "[<matplotlib.lines.Line2D at 0x7ffb0732a430>]"
      ]
     },
     "execution_count": 14,
     "metadata": {},
     "output_type": "execute_result"
    },
    {
     "data": {
      "image/png": "[encoded data removed]",
      "text/plain": [
       "<Figure size 640x480 with 1 Axes>"
      ]
     },
     "metadata": {},
     "output_type": "display_data"
    }
   ],
   "source": [
    "plt.plot(skewers_skn[:128*10])"
   ]
  },
  {
   "cell_type": "code",
   "execution_count": 15,
   "id": "765d3853-ecca-48a5-9138-354a37beb520",
   "metadata": {
    "tags": []
   },
   "outputs": [],
   "source": [
    "tf_cut_flat = theta_fid.flatten()\n",
    "\n",
    "noise_level = 5.0\n",
    "\n",
    "def gen_map_lya(theta,z):\n",
    "    modes = z[:nc**3].reshape((nc,nc,nc))    \n",
    "    Plin = power_b(theta)\n",
    "    conv_field = jnp.fft.rfftn(modes).conj()*Plin**(1/2)\n",
    "    lin_modes_real = jnp.fft.irfftn(conv_field).T[:,:,:]\n",
    "\n",
    "    lya_values = cic_readout_jit_jnc(lin_modes_real,naa,kernel)\n",
    "    return lya_values\n",
    "                 \n",
    "class Jax3DMuseProblem_flat(JaxMuseProblem):\n",
    "\n",
    "    def __init__(self, **kwargs):\n",
    "        super().__init__(**kwargs)\n",
    "\n",
    "    #@jax.jit\n",
    "    def sample_x_z(self, key, θ):\n",
    "        keys = jax.random.split(key, 2)\n",
    "        z = jax.random.normal(keys[0], (nc*nc*nc,))\n",
    "        x = gen_map_lya(θ,z) + (0.05*skewers_skn)*jax.random.normal(keys[1], (kernel.shape[1],)) #1*jax.random.normal(keys[1], (32**3,)).reshape((32,32,32))\n",
    "   #     print(z.shape,x.shape)\n",
    "        return (x, z)\n",
    "\n",
    "  #  @jax.jit\n",
    "    def logLike(self, x, z, θ):\n",
    "        return -(jnp.sum((x - gen_map_lya(θ,z))**2/((0.05*skewers_skn)**2))+ jnp.sum(z**2.0))\n",
    "\n",
    "  #  @jax.jit\n",
    "    def logPrior(self, θ):\n",
    "        return -jnp.sum(((θ-jnp.array(tf_cut_flat)*1.1)**2 / (2*(tf_cut_flat*0.4)**2)))\n",
    "    \n"
   ]
  },
  {
   "cell_type": "code",
   "execution_count": 16,
   "id": "5669e701-2118-4168-872f-e4b46d6662eb",
   "metadata": {},
   "outputs": [
    {
     "data": {
      "text/plain": [
       "1.4142135623730951"
      ]
     },
     "execution_count": 16,
     "metadata": {},
     "output_type": "execute_result"
    }
   ],
   "source": [
    "sqrt(2)"
   ]
  },
  {
   "cell_type": "code",
   "execution_count": 17,
   "id": "42d5db4e-3730-4b36-a17d-2891182daff1",
   "metadata": {
    "tags": []
   },
   "outputs": [],
   "source": [
    "prob = Jax3DMuseProblem_flat(implicit_diff=True,jit=False)\n",
    "key = jax.random.PRNGKey(30)\n",
    "(x, z) = prob.sample_x_z(key, tf_cut_flat)\n",
    "prob.set_x(x)"
   ]
  },
  {
   "cell_type": "code",
   "execution_count": 18,
   "id": "1f4222a8-9715-4b24-bd4a-42f1162e0739",
   "metadata": {},
   "outputs": [
    {
     "data": {
      "text/plain": [
       "Array([-0.25806367, -0.23647961, -0.2522719 , ...,  0.13355796,\n",
       "        0.11260188,  0.0876235 ], dtype=float32)"
      ]
     },
     "execution_count": 18,
     "metadata": {},
     "output_type": "execute_result"
    }
   ],
   "source": [
    "x"
   ]
  },
  {
   "cell_type": "code",
   "execution_count": 19,
   "id": "66a5a52c-dde1-411b-9e6e-fea550de10e5",
   "metadata": {},
   "outputs": [],
   "source": [
    "rng = jax.random.PRNGKey(1)"
   ]
  },
  {
   "cell_type": "code",
   "execution_count": 20,
   "id": "f27e8c69-8bef-45d7-bac6-a75d5382feb2",
   "metadata": {},
   "outputs": [],
   "source": [
    "x_data = x"
   ]
  },
  {
   "cell_type": "code",
   "execution_count": 21,
   "id": "aa786cee-8787-4e94-b9c6-03ef7811a95b",
   "metadata": {},
   "outputs": [],
   "source": [
    "from numpy.random import SeedSequence, default_rng\n",
    "from copy import copy\n",
    "\n",
    "start_point = np.abs(jnp.array(tf_cut_flat)*1.2)#+np.random.randn(len(tf_cut_flat))*jnp.array(tf_cut_flat)*0.01)\n",
    "\n",
    "θ = start_point\n",
    "\n",
    "maxsteps = 200\n",
    "nsims=10\n",
    "rng = jax.random.PRNGKey(1)\n",
    "\n",
    "def _split_rng(rng, N):\n",
    "    keyz = []\n",
    "    for i in range(N):\n",
    "        rng, subkey = jax.random.split(rng)\n",
    "        keyz.append(rng)\n",
    "    return keyz\n",
    "\n",
    "xz_sims = [prob.sample_x_z(_rng, θ) for _rng in _split_rng(rng, nsims)]\n",
    "xs = [x_data] + [x for (x,_) in xz_sims]\n",
    "ẑs = [z*0]     + [z*0 for (x, z) in xz_sims]"
   ]
  },
  {
   "cell_type": "code",
   "execution_count": 22,
   "id": "f9d4dd4d-801b-41a4-ae59-c687639e8a67",
   "metadata": {},
   "outputs": [],
   "source": [
    "import numpy as np\n",
    "from numbers import Number\n",
    "\n",
    "\n",
    "def ravel_θ(θ):\n",
    "    _ravel_θ, _unravel_θ = _ravel_unravel(θ)\n",
    "    return _ravel_θ(θ)\n",
    "\n",
    "def unravel_θ(θ):\n",
    "    _ravel_θ, _unravel_θ = _ravel_unravel(θ)\n",
    "\n",
    "    return _unravel_θ(θ)\n",
    "\n",
    "def ravel_z(z):\n",
    "    _ravel_z, _unravel_z = _ravel_unravel(z)\n",
    "    return _ravel_z(z)\n",
    "\n",
    "def unravel_z(z):\n",
    "    _ravel_z, _unravel_z = _ravel_unravel(z)\n",
    "\n",
    "    return _unravel_z(z)\n",
    "\n",
    "\n",
    "def _ravel_unravel(x):\n",
    "    if isinstance(x, (tuple,list)):\n",
    "        i = 0\n",
    "        slices_shapes = []\n",
    "        for elem in x:\n",
    "            if isinstance(elem, Number):\n",
    "                slices_shapes.append((i, None))\n",
    "                i += 1\n",
    "            else:\n",
    "                slices_shapes.append((slice(i,i+elem.size), elem.shape))\n",
    "                i += elem.size\n",
    "        ravel = lambda tup: np.concatenate(tup, axis=None)\n",
    "        unravel = lambda vec: tuple(vec[sl] if shape is None else vec[sl].reshape(shape) for (sl,shape) in slices_shapes)\n",
    "    elif isinstance(x, Number):\n",
    "        ravel = lambda val: np.array([val])\n",
    "        unravel = lambda vec: vec.item()\n",
    "    elif isinstance(x, dict):\n",
    "        keys = x.keys()\n",
    "        ravel_to_tup = lambda dct: tuple(dct[k] for k in keys) if isinstance(dct, dict) else dct\n",
    "        unravel_tup = lambda tup: {k: v for (k, v) in zip(keys, tup)}\n",
    "        ravel_tup, unravel_to_tup = _ravel_unravel(ravel_to_tup(x))\n",
    "        ravel = lambda dct: ravel_tup(ravel_to_tup(dct))\n",
    "        unravel = lambda vec: unravel_tup(unravel_to_tup(vec))\n",
    "    else:\n",
    "        ravel = unravel = lambda z: z\n",
    "    return (ravel, unravel)"
   ]
  },
  {
   "cell_type": "code",
   "execution_count": 23,
   "id": "98d9a447-e2ba-4132-b3a8-800f33293369",
   "metadata": {},
   "outputs": [],
   "source": [
    "from jax import grad, hessian, jacfwd, jvp, value_and_grad, vmap\n",
    "\n",
    "def gradθ_hessθ_logPrior(θ, transformed_θ=None):\n",
    "        g = grad(prob.logPrior)(θ)\n",
    "        H = hessian(lambda θ_vec: prob.logPrior(unravel_θ(θ_vec)))(ravel_θ(θ))\n",
    "        return (g, H)"
   ]
  },
  {
   "cell_type": "code",
   "execution_count": 24,
   "id": "6f3ac6a1-375e-4c40-9d8b-f81f66eca126",
   "metadata": {},
   "outputs": [
    {
     "name": "stdout",
     "output_type": "stream",
     "text": [
      "hi!\n"
     ]
    }
   ],
   "source": [
    "print(\"hi!\")"
   ]
  },
  {
   "cell_type": "code",
   "execution_count": 25,
   "id": "ce60d605-902c-4bdc-9d70-62198bbe4df0",
   "metadata": {},
   "outputs": [
    {
     "name": "stdout",
     "output_type": "stream",
     "text": [
      "step: 1 0.7\n",
      "step: 2 0.7\n",
      "step: 3 0.7\n"
     ]
    },
    {
     "name": "stderr",
     "output_type": "stream",
     "text": [
      "/home/guoqi/.conda/envs/MAPLE/lib/python3.9/site-packages/numpy/lib/nanfunctions.py:1745: RuntimeWarning: overflow encountered in multiply\n",
      "  sqr = np.multiply(arr, arr, out=arr, where=where)\n"
     ]
    },
    {
     "data": {
      "image/png": "[encoded data removed]",
      "text/plain": [
       "<Figure size 640x480 with 1 Axes>"
      ]
     },
     "metadata": {},
     "output_type": "display_data"
    },
    {
     "data": {
      "image/png": "[encoded data removed]",
      "text/plain": [
       "<Figure size 640x480 with 1 Axes>"
      ]
     },
     "metadata": {},
     "output_type": "display_data"
    },
    {
     "name": "stdout",
     "output_type": "stream",
     "text": [
      "step: 4 0.6649999999999999\n"
     ]
    },
    {
     "name": "stderr",
     "output_type": "stream",
     "text": [
      "/home/guoqi/.conda/envs/MAPLE/lib/python3.9/site-packages/numpy/lib/nanfunctions.py:1740: RuntimeWarning: invalid value encountered in subtract\n",
      "  np.subtract(arr, avg, out=arr, casting='unsafe', where=where)\n",
      "/home/guoqi/.conda/envs/MAPLE/lib/python3.9/site-packages/numpy/lib/nanfunctions.py:1745: RuntimeWarning: overflow encountered in multiply\n",
      "  sqr = np.multiply(arr, arr, out=arr, where=where)\n"
     ]
    },
    {
     "ename": "LinAlgError",
     "evalue": "SVD did not converge",
     "output_type": "error",
     "traceback": [
      "\u001b[0;31m---------------------------------------------------------------------------\u001b[0m",
      "\u001b[0;31mLinAlgError\u001b[0m                               Traceback (most recent call last)",
      "Cell \u001b[0;32mIn[25], line 57\u001b[0m\n\u001b[1;32m     55\u001b[0m  H̃_inv_like_sims \u001b[38;5;241m=\u001b[39m np\u001b[38;5;241m.\u001b[39mdiag(\u001b[38;5;241m-\u001b[39m\u001b[38;5;241m1\u001b[39m \u001b[38;5;241m/\u001b[39m np\u001b[38;5;241m.\u001b[39mnanvar(np\u001b[38;5;241m.\u001b[39mstack(\u001b[38;5;28mlist\u001b[39m(\u001b[38;5;28mmap\u001b[39m(ravel_θ, s̃_MAP_sims))), axis\u001b[38;5;241m=\u001b[39m\u001b[38;5;241m0\u001b[39m))\n\u001b[1;32m     56\u001b[0m \u001b[38;5;66;03m# try:\u001b[39;00m\n\u001b[0;32m---> 57\u001b[0m  H̃_inv_post \u001b[38;5;241m=\u001b[39m np\u001b[38;5;241m.\u001b[39mlinalg\u001b[38;5;241m.\u001b[39mpinv(\u001b[43mnp\u001b[49m\u001b[38;5;241;43m.\u001b[39;49m\u001b[43mlinalg\u001b[49m\u001b[38;5;241;43m.\u001b[39;49m\u001b[43mpinv\u001b[49m\u001b[43m(\u001b[49m\u001b[43mH̃_inv_like_sims\u001b[49m\u001b[43m)\u001b[49m \u001b[38;5;241m+\u001b[39m ravel_θ(H̃_prior)\u001b[38;5;241m.\u001b[39mreshape(Nθ,Nθ))\n\u001b[1;32m     58\u001b[0m  \u001b[38;5;66;03m#except:\u001b[39;00m\n\u001b[1;32m     59\u001b[0m  \u001b[38;5;66;03m#    print(\"error on Hessian inversion calc, prior ignored and trying again...\")\u001b[39;00m\n\u001b[1;32m     60\u001b[0m \u001b[38;5;66;03m# H̃_inv_post = H̃_inv_like_sims\u001b[39;00m\n\u001b[1;32m     61\u001b[0m  t \u001b[38;5;241m=\u001b[39m datetime\u001b[38;5;241m.\u001b[39mnow() \u001b[38;5;241m-\u001b[39m t0\n",
      "File \u001b[0;32m<__array_function__ internals>:180\u001b[0m, in \u001b[0;36mpinv\u001b[0;34m(*args, **kwargs)\u001b[0m\n",
      "File \u001b[0;32m~/.conda/envs/MAPLE/lib/python3.9/site-packages/numpy/linalg/linalg.py:1998\u001b[0m, in \u001b[0;36mpinv\u001b[0;34m(a, rcond, hermitian)\u001b[0m\n\u001b[1;32m   1996\u001b[0m     \u001b[38;5;28;01mreturn\u001b[39;00m wrap(res)\n\u001b[1;32m   1997\u001b[0m a \u001b[38;5;241m=\u001b[39m a\u001b[38;5;241m.\u001b[39mconjugate()\n\u001b[0;32m-> 1998\u001b[0m u, s, vt \u001b[38;5;241m=\u001b[39m \u001b[43msvd\u001b[49m\u001b[43m(\u001b[49m\u001b[43ma\u001b[49m\u001b[43m,\u001b[49m\u001b[43m \u001b[49m\u001b[43mfull_matrices\u001b[49m\u001b[38;5;241;43m=\u001b[39;49m\u001b[38;5;28;43;01mFalse\u001b[39;49;00m\u001b[43m,\u001b[49m\u001b[43m \u001b[49m\u001b[43mhermitian\u001b[49m\u001b[38;5;241;43m=\u001b[39;49m\u001b[43mhermitian\u001b[49m\u001b[43m)\u001b[49m\n\u001b[1;32m   2000\u001b[0m \u001b[38;5;66;03m# discard small singular values\u001b[39;00m\n\u001b[1;32m   2001\u001b[0m cutoff \u001b[38;5;241m=\u001b[39m rcond[\u001b[38;5;241m.\u001b[39m\u001b[38;5;241m.\u001b[39m\u001b[38;5;241m.\u001b[39m, newaxis] \u001b[38;5;241m*\u001b[39m amax(s, axis\u001b[38;5;241m=\u001b[39m\u001b[38;5;241m-\u001b[39m\u001b[38;5;241m1\u001b[39m, keepdims\u001b[38;5;241m=\u001b[39m\u001b[38;5;28;01mTrue\u001b[39;00m)\n",
      "File \u001b[0;32m<__array_function__ internals>:180\u001b[0m, in \u001b[0;36msvd\u001b[0;34m(*args, **kwargs)\u001b[0m\n",
      "File \u001b[0;32m~/.conda/envs/MAPLE/lib/python3.9/site-packages/numpy/linalg/linalg.py:1657\u001b[0m, in \u001b[0;36msvd\u001b[0;34m(a, full_matrices, compute_uv, hermitian)\u001b[0m\n\u001b[1;32m   1654\u001b[0m         gufunc \u001b[38;5;241m=\u001b[39m _umath_linalg\u001b[38;5;241m.\u001b[39msvd_n_s\n\u001b[1;32m   1656\u001b[0m signature \u001b[38;5;241m=\u001b[39m \u001b[38;5;124m'\u001b[39m\u001b[38;5;124mD->DdD\u001b[39m\u001b[38;5;124m'\u001b[39m \u001b[38;5;28;01mif\u001b[39;00m isComplexType(t) \u001b[38;5;28;01melse\u001b[39;00m \u001b[38;5;124m'\u001b[39m\u001b[38;5;124md->ddd\u001b[39m\u001b[38;5;124m'\u001b[39m\n\u001b[0;32m-> 1657\u001b[0m u, s, vh \u001b[38;5;241m=\u001b[39m \u001b[43mgufunc\u001b[49m\u001b[43m(\u001b[49m\u001b[43ma\u001b[49m\u001b[43m,\u001b[49m\u001b[43m \u001b[49m\u001b[43msignature\u001b[49m\u001b[38;5;241;43m=\u001b[39;49m\u001b[43msignature\u001b[49m\u001b[43m,\u001b[49m\u001b[43m \u001b[49m\u001b[43mextobj\u001b[49m\u001b[38;5;241;43m=\u001b[39;49m\u001b[43mextobj\u001b[49m\u001b[43m)\u001b[49m\n\u001b[1;32m   1658\u001b[0m u \u001b[38;5;241m=\u001b[39m u\u001b[38;5;241m.\u001b[39mastype(result_t, copy\u001b[38;5;241m=\u001b[39m\u001b[38;5;28;01mFalse\u001b[39;00m)\n\u001b[1;32m   1659\u001b[0m s \u001b[38;5;241m=\u001b[39m s\u001b[38;5;241m.\u001b[39mastype(_realType(result_t), copy\u001b[38;5;241m=\u001b[39m\u001b[38;5;28;01mFalse\u001b[39;00m)\n",
      "File \u001b[0;32m~/.conda/envs/MAPLE/lib/python3.9/site-packages/numpy/linalg/linalg.py:98\u001b[0m, in \u001b[0;36m_raise_linalgerror_svd_nonconvergence\u001b[0;34m(err, flag)\u001b[0m\n\u001b[1;32m     97\u001b[0m \u001b[38;5;28;01mdef\u001b[39;00m\u001b[38;5;250m \u001b[39m\u001b[38;5;21m_raise_linalgerror_svd_nonconvergence\u001b[39m(err, flag):\n\u001b[0;32m---> 98\u001b[0m     \u001b[38;5;28;01mraise\u001b[39;00m LinAlgError(\u001b[38;5;124m\"\u001b[39m\u001b[38;5;124mSVD did not converge\u001b[39m\u001b[38;5;124m\"\u001b[39m)\n",
      "\u001b[0;31mLinAlgError\u001b[0m: SVD did not converge"
     ]
    }
   ],
   "source": [
    "from datetime import datetime, timedelta\n",
    "from jax.scipy.optimize import minimize\n",
    "\n",
    "from multiprocessing.pool import ThreadPool as Pool \n",
    "pool = Pool() #jax pmap? check re-compilation times?\n",
    "pmap = pool.map\n",
    "\n",
    "#method = 'L-BFGS-B'\n",
    "method = \"l-bfgs-experimental-do-not-rely-on-this\"\n",
    "θ_rtol = 1e-5\n",
    "z_rtol = 1e-5\n",
    "\n",
    "θ_tol = 1e-5\n",
    "z_tol = 1e-6\n",
    "\n",
    "history = []\n",
    "α=0.70\n",
    "beta = 0.25\n",
    "\n",
    "θ̃unreg = θ̃ = start_point\n",
    "θunreg = θ = start_point# if result.θ is not None else θ_start)\n",
    "θL = start_point\n",
    "Nθ = len(ravel_θ(θ̃))\n",
    "time = timedelta(0)\n",
    "for i in range(1, maxsteps+1):\n",
    "        print(\"step:\",i,α)\n",
    "        t0 = datetime.now()\n",
    "\n",
    "        if i > 1:\n",
    "            xs = [x_data] + [prob.sample_x_z(_rng, θ)[0] for _rng in _split_rng(rng,nsims)]\n",
    "            θ_tol = np.sqrt(-np.diag(H̃_inv_post)) * θ_rtol\n",
    "\n",
    "        if i > 2:\n",
    "            Δθ̃ = ravel_θ(history[-1][\"θ̃\"])- ravel_θ(history[-2][\"θ̃\"])\n",
    "          #  if np.sqrt(-np.inner(Δθ̃, np.inner(np.linalg.pinv(history[-1][\"H̃_inv_post\"]), Δθ̃))) < θ_rtol:\n",
    "           #     break\n",
    "\n",
    "        # MUSE gradient\n",
    "        def get_MAPs(x_z):\n",
    "            x, ẑ_prev = x_z\n",
    "            result = prob.z_MAP_and_score(x, ẑ_prev, θ, method=method, z_tol=z_tol, θ_tol=θ_tol)\n",
    "            return result\n",
    "\n",
    "        MAPs = list(pmap(get_MAPs, zip(xs, ẑs)))\n",
    "\n",
    "        ẑs = [MAP.z for MAP in MAPs]\n",
    "   #     if save_MAP_history:\n",
    "    #        MAP_history_dat, *MAP_history_sims = [MAP.history for MAP in MAPs]\n",
    "        s_MAP_dat, *s_MAP_sims = [MAP.s for MAP in MAPs]\n",
    "        s̃_MAP_dat, *s̃_MAP_sims = [MAP.s̃ for MAP in MAPs]\n",
    "        s̃_MUSE = unravel_θ(ravel_θ(s̃_MAP_dat) - np.nanmean(np.stack(list(map(ravel_θ, s̃_MAP_sims))), axis=0))\n",
    "        s̃_prior, H̃_prior = gradθ_hessθ_logPrior(θ̃, transformed_θ=True)\n",
    "        s̃_post = unravel_θ(ravel_θ(s̃_MUSE) + ravel_θ(s̃_prior))\n",
    "\n",
    "        H̃_inv_like_sims = np.diag(-1 / np.nanvar(np.stack(list(map(ravel_θ, s̃_MAP_sims))), axis=0))\n",
    "       # try:\n",
    "        H̃_inv_post = np.linalg.pinv(np.linalg.pinv(H̃_inv_like_sims) + ravel_θ(H̃_prior).reshape(Nθ,Nθ))\n",
    "        #except:\n",
    "        #    print(\"error on Hessian inversion calc, prior ignored and trying again...\")\n",
    "       # H̃_inv_post = H̃_inv_like_sims\n",
    "        t = datetime.now() - t0\n",
    "        time += t\n",
    "\n",
    "        history.append({\n",
    "            \"t\":t, \"θ̃\":θ̃, \"θ̃unreg\":θ̃unreg, \"θ\":θ, \"θunreg\":θunreg,\n",
    "            \"s_MAP_dat\": s_MAP_dat, \"s_MAP_sims\": s_MAP_sims,\n",
    "            \"s̃_MAP_dat\": s̃_MAP_dat, \"s̃_MAP_sims\": s̃_MAP_sims, \n",
    "            \"s̃_MUSE\": s̃_MUSE,\n",
    "            \"s̃_prior\": s̃_prior, \"s̃_post\": s̃_post, \n",
    "            \"H̃_inv_post\": H̃_inv_post, \"H̃_prior\": H̃_prior, \n",
    "            \"H̃_inv_like_sims\": H̃_inv_like_sims,\n",
    "            \"θ_tol\": θ_tol,\n",
    "        #    \"MAP_history_dat\": MAP_history_dat, \n",
    "         #   \"MAP_history_sims\": MAP_history_sims,\n",
    "        })\n",
    "        θ̃update = np.clip((np.inner(H̃_inv_post, ravel_θ(s̃_post))),-ravel_θ(θ̃)*beta,ravel_θ(θ̃)*beta)\n",
    "        θ̃unreg = unravel_θ(ravel_θ(θ̃) - α * θ̃update)\n",
    "        θunreg = θ̃unreg\n",
    "        θ̃ = θ̃unreg\n",
    "        θ = θ̃\n",
    "        #print(θ)\n",
    "        if i%3==0:\n",
    "            plt.semilogy(start_point,\"r.-\")\n",
    "            plt.plot(θ)\n",
    "            plt.plot(tf_cut_flat,\"k:\")\n",
    "            plt.show()\n",
    "            \n",
    "            \n",
    "            plt.plot((start_point-tf_cut_flat)/tf_cut_flat,\"r.-\")\n",
    "            plt.plot((θ-tf_cut_flat)/tf_cut_flat,\"k\")\n",
    "            plt.plot((θL-tf_cut_flat)/tf_cut_flat,\"k:\")\n",
    "    \n",
    "            plt.ylim([-.1,.3])\n",
    "            plt.show()\n",
    "            \n",
    "            θL = θ\n",
    "            α *= 0.95"
   ]
  },
  {
   "cell_type": "code",
   "execution_count": null,
   "id": "43451140-b145-4b36-9f9a-de4b142817b9",
   "metadata": {
    "tags": []
   },
   "outputs": [],
   "source": [
    "print(\"hi!\")"
   ]
  },
  {
   "cell_type": "code",
   "execution_count": null,
   "id": "aef56ea8-f228-4be8-9179-b5cf7b43831b",
   "metadata": {
    "tags": []
   },
   "outputs": [],
   "source": [
    "H̃_inv_like_sims"
   ]
  },
  {
   "cell_type": "code",
   "execution_count": null,
   "id": "423e7b3d-6191-485f-9e29-8e7b8f71ee0a",
   "metadata": {},
   "outputs": [],
   "source": [
    "plt.plot((θ-tf_cut_flat)/tf_cut_flat)\n",
    "plt.show()"
   ]
  },
  {
   "cell_type": "code",
   "execution_count": null,
   "id": "423a72fa-90c5-4197-b06f-fd47cf95e8a7",
   "metadata": {},
   "outputs": [],
   "source": [
    "s_MAP_sims = history[-1][\"s_MAP_sims\"]\n",
    "_, *z_MAP_sims = ẑs"
   ]
  },
  {
   "cell_type": "code",
   "execution_count": null,
   "id": "7b1f2d06-7865-41d1-9928-e49aee7cffa7",
   "metadata": {},
   "outputs": [],
   "source": [
    "def z_MAP_guess_from_truth(x, z, θ):\n",
    "        return unravel_z(0 * ravel_z(z))\n",
    "    \n",
    "nsims = 4\n",
    "    \n",
    "def get_J(\n",
    "        result = None,\n",
    "        θ = None,\n",
    "        θ_tol = None,\n",
    "        z_tol = None,\n",
    "        method = None,\n",
    "        rng = None,\n",
    "        nsims = 10, \n",
    "        pmap = map,\n",
    "        progress = False, \n",
    "        skip_errors = False,\n",
    "    ):\n",
    "\n",
    "        nsims_remaining = nsims \n",
    "\n",
    "        if nsims_remaining > 0:\n",
    "            print(nsims_remaining)\n",
    "            t0 = datetime.now()\n",
    "\n",
    "            def get_s_MAP(rng):\n",
    "                    (x, z) = prob.sample_x_z(rng, θ)\n",
    "                    z_MAP_guess = prob.z_MAP_guess_from_truth(x, z, θ)\n",
    "                    return prob.z_MAP_and_score(x, z_MAP_guess, θ, method=method, θ_tol=θ_tol, z_tol=z_tol).s\n",
    "                \n",
    "\n",
    "            rngs = _split_rng(rng, nsims_remaining)\n",
    "            s_MAP_sims.extend(s for s in pmap(get_s_MAP, rngs) if s is not None)\n",
    "\n",
    "#            time += datetime.now() - t0\n",
    "\n",
    "        J = np.atleast_2d(np.cov(np.stack(list(map(ravel_θ, s_MAP_sims))), rowvar=False))\n",
    "        return J\n",
    "\n"
   ]
  },
  {
   "cell_type": "code",
   "execution_count": null,
   "id": "de2dc5ce-cc5b-426c-b944-4b4298dfdb91",
   "metadata": {},
   "outputs": [],
   "source": [
    "J = get_J(rng=rng,θ =θ,method=method, θ_tol=θ_tol, z_tol=z_tol)"
   ]
  },
  {
   "cell_type": "code",
   "execution_count": null,
   "id": "ec402044-4059-416f-b4a9-15cf6c16b23d",
   "metadata": {},
   "outputs": [],
   "source": [
    "Hs = []"
   ]
  },
  {
   "cell_type": "code",
   "execution_count": null,
   "id": "c583c60d-8df7-47a9-8713-93619899da4c",
   "metadata": {},
   "outputs": [],
   "source": [
    "\n",
    "def pjacobian(f, x, step, pmap=map, pbar=None):\n",
    "    print(step,x)\n",
    "    step = step + np.array(0 * x) # make array if scalar\n",
    "\n",
    "    def column(i):\n",
    "    \n",
    "        def v(ε):\n",
    "            ε_vec = np.array(0 * x)\n",
    "            ε_vec[i] = ε\n",
    "            v = f(x + ε_vec)\n",
    "            if pbar: pbar.update()\n",
    "            return v\n",
    "\n",
    "        return (v(step[i]) - v(-step[i])) / (2 * step[i])\n",
    "\n",
    "    return np.array(list(pmap(column, range(len(x)))))"
   ]
  },
  {
   "cell_type": "code",
   "execution_count": null,
   "id": "0ea9dbc3-8dcd-4125-b1cb-8e3b9533c94c",
   "metadata": {},
   "outputs": [],
   "source": [
    "z_MAP_sims"
   ]
  },
  {
   "cell_type": "code",
   "execution_count": null,
   "id": "71adce1e-8934-4412-92a2-fe16dcbd7b46",
   "metadata": {},
   "outputs": [],
   "source": [
    "from tqdm import tqdm\n",
    "from jax.scipy.sparse.linalg import cg\n",
    "\n",
    "step = None\n",
    "skip_errors = False\n",
    "def _get_H_i_old(rng, z_MAP_guess_fid, *, θ, method=None, θ_tol=None, z_tol=None, step=None, skip_errors=False):\n",
    "    \n",
    "    # for each sim, do one fit at fiducial which we'll\n",
    "    # reuse as a starting point when fudging θ by +/-ϵ\n",
    "    θfid = θ\n",
    "    (x, z) = prob.sample_x_z(rng, θfid)\n",
    "    if z_MAP_guess_fid is None:\n",
    "        z_MAP_guess = _MAP_guess_from_truth(x, z, θfid)\n",
    "        z_MAP_guess_fid = z_MAP_and_score(x, z_MAP_guess, θfid, method=method, θ_tol=θ_tol, z_tol=z_tol).z\n",
    "\n",
    "    def get_s_MAP(θvec):\n",
    "        θ = unravel_θ(θvec)\n",
    "        (x, _) = prob.sample_x_z(copy(rng), θ)\n",
    "        return ravel_θ(prob.z_MAP_and_score(x, z_MAP_guess_fid, θfid, method=method, θ_tol=θ_tol, z_tol=z_tol).s)\n",
    "\n",
    "    return pjacobian(get_s_MAP, ravel_θ(θfid), step)\n",
    "\n",
    "\n",
    "def _get_H_i(rng, z_MAP, *, θ, implicit_diff_cgtol=1e-3, method=None, θ_tol=None, z_tol=None, step=None, skip_errors=False):\n",
    "\n",
    "        #implicit implementation..\n",
    "        cg_kwargs = dict(tol=implicit_diff_cgtol)\n",
    "\n",
    "        (x, z) = prob.sample_x_z(rng, θ)\n",
    "        if z_MAP is None:\n",
    "            z_MAP_guess = z_MAP_guess_from_truth(x, z, θ)\n",
    "            z_MAP = prob.z_MAP_and_score(x, z_MAP_guess, θ, method=method, θ_tol=θ_tol, z_tol=z_tol).z\n",
    "\n",
    "        θ_vec, z_MAP_vec = ravel_θ(θ), ravel_z(z_MAP)\n",
    "        #unravel_θ, unravel_z = unravel_θ, unravel_z\n",
    "\n",
    "        # non-implicit-diff term\n",
    "        H1 = jacfwd(\n",
    "            lambda θ1: grad(\n",
    "                lambda θ2: prob.logLike(prob.sample_x_z(rng, unravel_θ(θ1))[0], z_MAP, unravel_θ(θ2))\n",
    "            )(θ_vec)\n",
    "        )(θ_vec)\n",
    "\n",
    "        # term involving dzMAP/dθ via implicit-diff (w/ conjugate-gradient linear solve)\n",
    "        dFdθ = jacfwd(\n",
    "            lambda θ: grad(\n",
    "                lambda z: prob.logLike(x, unravel_z(z), unravel_θ(θ))\n",
    "            )(z_MAP_vec)\n",
    "        )(θ_vec)\n",
    "        dFdθ1 = jacfwd(\n",
    "            lambda θ1: grad(\n",
    "                lambda z: prob.logLike(prob.sample_x_z(rng, unravel_θ(θ1))[0], unravel_z(z), θ)\n",
    "            )(z_MAP_vec)\n",
    "        )(θ_vec)\n",
    "        inv_dFdz_dFdθ1 = vmap(\n",
    "            lambda vec: cg(\n",
    "                lambda vec: jvp(lambda z: grad(lambda z: prob.logLike(x, unravel_z(z), θ))(z), (z_MAP_vec,), (vec,))[1], \n",
    "                vec, \n",
    "                **cg_kwargs\n",
    "            )[0], \n",
    "            in_axes=1, out_axes=1\n",
    "        )(dFdθ1)\n",
    "        H2 = -dFdθ.T @ inv_dFdz_dFdθ1\n",
    "        return H1 + H2\n",
    "\n",
    "Hs = []\n",
    "\n",
    "nsims_remaining = nsims  #- len(result.Hs)\n",
    "\n",
    "z_MAP_sims = z_MAP_sims[:4]\n",
    "\n",
    "if nsims_remaining > 0:\n",
    "\n",
    "    # default to finite difference step size of 0.1σ with σ roughly\n",
    "    # estimated from s_MAP_sims sims, if we have them\n",
    "    if step is None:\n",
    "        if len(s_MAP_sims) > 0:\n",
    "            step = 0.1 / np.std(np.stack(list(map(ravel_θ, s_MAP_sims))), axis=0)\n",
    "        else:\n",
    "            step = 1e-5\n",
    "    \n",
    "    Nθ = len(ravel_θ(θ))\n",
    "    pbar = partial(tqdm, total=nsims_remaining, desc=\"get_H\", disable=(True))\n",
    "\n",
    "    t0 = datetime.now()\n",
    "    rngs = _split_rng(rng, nsims)[-nsims_remaining:]\n",
    "    z_MAP_sims = (z_MAP_sims + [None]*(max(0, nsims - len(z_MAP_sims))))[-nsims_remaining:]\n",
    "    _get_H_ii = partial(_get_H_i, θ=θ, method=method, θ_tol=θ_tol, z_tol=z_tol, step=step, skip_errors=skip_errors)\n",
    "    Hs.extend(H for H in pbar(map(lambda args: _get_H_ii(*args), zip(rngs, z_MAP_sims)) )if H is not None)\n",
    "   # result.time += datetime.now() - t0\n",
    "\n",
    "avg = np.mean#np.median if use_median else np.mean\n",
    "H = avg(np.array(Hs), axis=0)"
   ]
  },
  {
   "cell_type": "code",
   "execution_count": null,
   "id": "ca785fe6-7e95-4dec-9f00-bc3344194cb3",
   "metadata": {},
   "outputs": [],
   "source": [
    "Hs[0]"
   ]
  },
  {
   "cell_type": "code",
   "execution_count": null,
   "id": "c8cd67f8-58fe-4c9b-ab5a-5c85521cb889",
   "metadata": {},
   "outputs": [],
   "source": [
    "import scipy as sp\n",
    "\n",
    "Nθ = len(ravel(θ))\n",
    "\n",
    "H_prior = -ravel(prob.gradθ_hessθ_logPrior(θ, transformed_θ=False)[1]).reshape(Nθ,Nθ)\n",
    "Σ_inv = H.T @ np.linalg.pinv(J) @ H + H_prior\n",
    "Σ = np.linalg.pinv(Σ_inv)\n",
    "try:\n",
    "    if θ is not None:\n",
    "        if Nθ == 1:\n",
    "            dist = sp.stats.norm(ravel(θ), np.sqrt(Σ[0,0]))\n",
    "        else:\n",
    "            dist = sp.stats.multivariate_normal(ravel(θ), Σ)\n",
    "except:\n",
    "    print(\"likely error in covariance... proceed with caution!\")"
   ]
  },
  {
   "cell_type": "code",
   "execution_count": null,
   "id": "20775f1d-630c-4d6d-8f8a-077524ead4c6",
   "metadata": {},
   "outputs": [],
   "source": [
    "plt.plot(1/np.sqrt(np.diag(Σ_inv))/tf_cut_flat)\n",
    "plt.plot(np.sqrt(np.diag(Σ))/tf_cut_flat)\n",
    "\n",
    "plt.plot(abs((start_point-θ)/tf_cut_flat),\"k:\")"
   ]
  },
  {
   "cell_type": "code",
   "execution_count": null,
   "id": "16c7419b-c353-41c0-9589-2b87d8b57928",
   "metadata": {},
   "outputs": [],
   "source": [
    "plt.errorbar(np.arange(len(tf_cut_flat)),(θ-tf_cut_flat)/tf_cut_flat,yerr=1/np.sqrt(np.diag(Σ_inv))/tf_cut_flat)\n",
    "plt.plot(np.arange(len(tf_cut_flat)),np.arange(len(tf_cut_flat))*0.0,\"k:\")\n",
    "plt.ylim(-0.4,0.4)\n",
    "plt.show()"
   ]
  },
  {
   "cell_type": "code",
   "execution_count": null,
   "id": "8a3a699d-bcdf-4b17-b8a1-d5b0b3c29664",
   "metadata": {},
   "outputs": [],
   "source": [
    "imshow(Σ_inv)\n",
    "colorbar()"
   ]
  },
  {
   "cell_type": "code",
   "execution_count": null,
   "id": "394b6cfc-531c-4789-bac8-f6f705edd79d",
   "metadata": {},
   "outputs": [],
   "source": []
  },
  {
   "cell_type": "code",
   "execution_count": null,
   "id": "38a13f92-b661-45ea-a65d-67b993bcd334",
   "metadata": {},
   "outputs": [],
   "source": []
  },
  {
   "cell_type": "code",
   "execution_count": null,
   "id": "c68e4bde-c5af-447c-8ca8-647d077d1d47",
   "metadata": {},
   "outputs": [],
   "source": []
  },
  {
   "cell_type": "code",
   "execution_count": 41,
   "id": "fa4e4c50-74b9-429c-884e-56fc29ccc25a",
   "metadata": {
    "tags": []
   },
   "outputs": [
    {
     "data": {
      "text/plain": [
       "(Array(-20249372., dtype=float32),\n",
       " Array([   28394.975,   -39093.875,  1034726.2  ,   939339.9  ,\n",
       "         3174355.5  ,  2896600.5  ,  -395299.2  , -2251852.2  ,\n",
       "         -648985.25 ,    71448.8  ,    18843.148,   366854.38 ,\n",
       "          -51824.78 ,  -486713.7  ,   234351.94 ,   522018.62 ,\n",
       "           51527.055,   -18938.36 ,    25859.934,   172394.77 ,\n",
       "           75221.26 ,  -631158.44 ,  -806945.75 ,  -797984.5  ,\n",
       "         -342492.25 ,    17662.227,  1441140.8  ,   -17715.59 ,\n",
       "          105064.06 ,   597888.7  ,   334744.62 , -1254400.   ,\n",
       "          266043.75 ,  2749583.8  ,  1520294.8  ,   835973.9  ],      dtype=float32))"
      ]
     },
     "execution_count": 41,
     "metadata": {},
     "output_type": "execute_result"
    }
   ],
   "source": [
    "#tf_cut_flat = m_array[:,2].flatten()\n",
    "start_point = np.abs(jnp.array(tf_cut_flat)+np.random.randn(len(tf_cut_flat))*jnp.array(tf_cut_flat)*0.15)\n",
    "\n",
    "\n",
    "prob.logLike(x,z,tf_cut_flat)\n",
    "\n",
    "def problem(theta):\n",
    "    return prob.logLike(x,z,theta)\n",
    "\n",
    "vag = jax.value_and_grad(problem)\n",
    "\n",
    "vag(start_point)"
   ]
  },
  {
   "cell_type": "code",
   "execution_count": null,
   "id": "bc61734d-c0a6-4049-85f2-cf5856049857",
   "metadata": {
    "tags": []
   },
   "outputs": [],
   "source": [
    "\n",
    "from multiprocessing.pool import ThreadPool as Pool \n",
    "pool = Pool() #jax pmap? check re-compilation times?\n",
    "pmap = pool.map\n",
    "result = prob.solve(pmap = pool.map, θ_start=start_point, \n",
    "                   rng = jax.random.PRNGKey(1), progress=True,θ_rtol = 1e-5, \n",
    "                   maxsteps = 500, nsims=10,α=0.0003,get_covariance=False)\n"
   ]
  },
  {
   "cell_type": "code",
   "execution_count": null,
   "id": "24fcaf5f-b4bd-4063-b2e6-f2a2d5f15456",
   "metadata": {},
   "outputs": [],
   "source": [
    "result.θ"
   ]
  },
  {
   "cell_type": "code",
   "execution_count": null,
   "id": "64582552-90d0-441b-8ff6-de26d98349c4",
   "metadata": {},
   "outputs": [],
   "source": [
    "\n",
    "result = prob.solve(pmap = pool.map, θ_start=start_point,#result.θ, \n",
    "                   rng = jax.random.PRNGKey(1), progress=True,θ_rtol = 1e-5, \n",
    "                   maxsteps = 1, nsims=100, α=0.0002, get_covariance=True)\n"
   ]
  },
  {
   "cell_type": "code",
   "execution_count": null,
   "id": "4d5a480b-becb-4ace-93ca-659415c04093",
   "metadata": {
    "tags": []
   },
   "outputs": [],
   "source": [
    "def corr(mat):\n",
    "    mat2  = mat.copy()\n",
    "    sdiag = 1./np.sqrt(np.diag(mat))\n",
    "    for i in range(mat.shape[0]):\n",
    "        mat2[i,:]=mat[i,:]*sdiag[i]*sdiag[:]\n",
    "    return mat2\n",
    "\n",
    "imshow(corr(result.Σ))\n",
    "colorbar()"
   ]
  },
  {
   "cell_type": "code",
   "execution_count": null,
   "id": "215eedc9-c9ac-4884-b99c-d30520f56446",
   "metadata": {
    "tags": []
   },
   "outputs": [],
   "source": [
    "np.diag(result.Σ)"
   ]
  },
  {
   "cell_type": "code",
   "execution_count": null,
   "id": "ae2f9c06-3046-4b53-9af1-2426cbe638fd",
   "metadata": {},
   "outputs": [],
   "source": [
    "#plt.plot(result.θ)\n",
    "plt.errorbar(np.arange(0,result.θ.shape[0]),(result.θ-tf_cut_flat)/result.θ,\n",
    "             yerr=np.sqrt(np.diag(np.linalg.inv(result.Σ)))/result.θ)"
   ]
  },
  {
   "cell_type": "code",
   "execution_count": null,
   "id": "dad8a023-d1cd-409d-a399-efe4a1a8f93f",
   "metadata": {},
   "outputs": [],
   "source": [
    "plt.rcParams['figure.figsize'] = 12,8\n",
    "\n",
    "plt.errorbar(np.arange(0,result.θ.shape[0]),result.θ/tf_cut_flat,yerr=np.diag(np.sqrt(result.Σ))/tf_cut_flat)\n",
    "plt.plot(np.arange(0,result.θ.shape[0]),start_point/tf_cut_flat)\n",
    "plt.plot(np.arange(0,result.θ.shape[0]),tf_cut_flat/tf_cut_flat)\n",
    "\n",
    "plt.semilogy()"
   ]
  },
  {
   "cell_type": "code",
   "execution_count": null,
   "id": "9ed3584d-a98d-43f5-a1e3-863ff3e5e0f6",
   "metadata": {},
   "outputs": [],
   "source": [
    "np.diag(np.sqrt(result.Σ))/tf_cut_flat"
   ]
  },
  {
   "cell_type": "code",
   "execution_count": null,
   "id": "27b3d5ff-7e6b-4aa3-ad14-07e13fa12ba4",
   "metadata": {},
   "outputs": [],
   "source": [
    "result.θ.reshape(4,18)[, np.arange(0,18).shape"
   ]
  },
  {
   "cell_type": "code",
   "execution_count": null,
   "id": "0943f387-fef1-4c3e-8dbf-da9c1fd39501",
   "metadata": {},
   "outputs": [],
   "source": [
    "colors = [\"r\",\"b\",\"y\",\"g\"]\n",
    "for i in range(0,4):\n",
    "    plt.semilogy(tf_cut_flat.reshape(4,18).T[:,i],colors[i])\n",
    "    plt.errorbar(np.arange(0,18)+i*0.05-0.1,result.θ.reshape(4,18).T[:,i],\n",
    "                 yerr=np.diag(np.sqrt(result.Σ)).reshape(4,18).T[:,i],\n",
    "                linestyle=\":\",\n",
    "                color=colors[i])\n"
   ]
  },
  {
   "cell_type": "code",
   "execution_count": null,
   "id": "40c69ea3-b558-4dd0-8eb1-fddbc6227184",
   "metadata": {
    "tags": []
   },
   "outputs": [],
   "source": [
    "tf_cut_flat.max()"
   ]
  },
  {
   "cell_type": "code",
   "execution_count": null,
   "id": "4f30ec42-0ab3-4708-8ff6-270232f44652",
   "metadata": {
    "tags": []
   },
   "outputs": [],
   "source": [
    "plt.semilogy(m_array[:,2].reshape(4,50).T)\n",
    "#plt.semilogy(m_array[:,2].reshape(4,50)[-1])\n",
    "plt.semilogy(tf_cut_flat.reshape(4,18).T,\"r:\")\n"
   ]
  },
  {
   "cell_type": "code",
   "execution_count": null,
   "id": "c4395292-48c8-4df3-a118-4a8b79c5e16f",
   "metadata": {
    "tags": []
   },
   "outputs": [],
   "source": [
    "plt.loglog(m_array[:,2].reshape(4,50)[-1])"
   ]
  },
  {
   "cell_type": "code",
   "execution_count": null,
   "id": "ad3aafb6-bbc0-4d38-97f2-83135635398e",
   "metadata": {
    "tags": []
   },
   "outputs": [],
   "source": [
    "m_array[:,2].reshape(4,50)[-1]"
   ]
  },
  {
   "cell_type": "code",
   "execution_count": null,
   "id": "fe0ef6e8-e2ca-40c6-802c-f80f74596599",
   "metadata": {},
   "outputs": [],
   "source": []
  }
 ],
 "metadata": {
  "kernelspec": {
   "display_name": "Python 3 (ipykernel)",
   "language": "python",
   "name": "python3"
  },
  "language_info": {
   "codemirror_mode": {
    "name": "ipython",
    "version": 3
   },
   "file_extension": ".py",
   "mimetype": "text/x-python",
   "name": "python",
   "nbconvert_exporter": "python",
   "pygments_lexer": "ipython3",
   "version": "3.9.21"
  }
 },
 "nbformat": 4,
 "nbformat_minor": 5
}
